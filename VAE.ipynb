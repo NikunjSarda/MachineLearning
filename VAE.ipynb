{
 "cells": [
  {
   "cell_type": "code",
   "execution_count": null,
   "metadata": {},
   "outputs": [],
   "source": [
    "import numpy as ny\n",
    "import tensorflow as tw"
   ]
  },
  {
   "cell_type": "code",
   "execution_count": null,
   "metadata": {},
   "outputs": [],
   "source": [
    "class sp(tw.keras.layers.Layer):\n",
    "    def call(self, ip):\n",
    "        mz, vlz = ip\n",
    "        b = tw.shape(mz)[0]\n",
    "        d = tw.shape(mz)[1]\n",
    "        ep = tw.keras.backend.random_normal(shape=(b, d))\n",
    "        return mz + tw.exp(0.5 * vlz) * ep"
   ]
  },
  {
   "cell_type": "code",
   "execution_count": null,
   "metadata": {},
   "outputs": [],
   "source": [
    "ldim = 2\n",
    "\n",
    "ipenc = tw.keras.Input(shape=(28, 28, 1))\n",
    "md = tw.keras.layers.Conv2D(32, 3, activation=\"relu\", strides=2, padding=\"same\")(ipenc)\n",
    "md = tw.keras.layers.Conv2D(64, 3, activation=\"relu\", strides=2, padding=\"same\")(md)\n",
    "md = tw.keras.layers.Flatten()(md)\n",
    "md = tw.keras.layers.Dense(16, activation=\"relu\")(md)\n",
    "mz = tw.keras.layers.Dense(ldim, name=\"mz\")(md)\n",
    "vlz = tw.keras.layers.Dense(ldim, name=\"vlz\")(md)\n",
    "zi = sp()([mz, vlz])\n",
    "enc = tw.keras.Model(ipenc, [mz, vlz, zi], name=\"enc\")\n",
    "enc.summary()"
   ]
  },
  {
   "cell_type": "code",
   "execution_count": null,
   "metadata": {},
   "outputs": [],
   "source": [
    "ipl = tw.keras.Input(shape=(ldim,))\n",
    "md = tw.keras.layers.Dense(7 * 7 * 64, activation=\"relu\")(ipl)\n",
    "md = tw.keras.layers.Reshape((7, 7, 64))(md)\n",
    "md = tw.keras.layers.Conv2DTranspose(64, 3, activation=\"relu\", strides=2, padding=\"same\")(md)\n",
    "md = tw.keras.layers.Conv2DTranspose(32, 3, activation=\"relu\", strides=2, padding=\"same\")(md)\n",
    "odec = tw.keras.layers.Conv2DTranspose(1, 3, activation=\"sigmoid\", padding=\"same\")(md)\n",
    "dec = tw.keras.Model(ipl, odec, name=\"dec\")\n",
    "dec.summary()"
   ]
  },
  {
   "cell_type": "code",
   "execution_count": null,
   "metadata": {},
   "outputs": [],
   "source": [
    "class VAE(tw.keras.Model):\n",
    "    def __init__(sl, e, d, **p):\n",
    "        super(VAE, sl).__init__(**p)\n",
    "        sl.en = e\n",
    "        sl.de = d\n",
    "\n",
    "    def train_step(s, dt):\n",
    "        if isinstance(dt, tuple):\n",
    "            dt = dt[0]\n",
    "        with tw.GradientTape() as tg:\n",
    "            mz, vlz, zi = enc(dt)\n",
    "            rec = dec(zi)\n",
    "            recl = tw.reduce_mean(\n",
    "                tw.keras.losses.binary_crossentropy(dt, rec)\n",
    "            )\n",
    "            recl *= 28 * 28\n",
    "            kll = 1 + vlz - tw.square(mz) - tw.exp(vlz)\n",
    "            kll = tw.reduce_mean(kll)\n",
    "            kll *= -0.5\n",
    "            ttl = recl + kll\n",
    "        gs = tg.gradient(ttl, s.trainable_weights)\n",
    "        s.optimizer.apply_gradients(zip(gs, s.trainable_weights))\n",
    "        return {\n",
    "            \"total loss\": ttl,\n",
    "            \"reconstruction loss\": recl,\n",
    "            \"kl loss\": kll,\n",
    "        }"
   ]
  },
  {
   "cell_type": "code",
   "execution_count": null,
   "metadata": {},
   "outputs": [],
   "source": [
    "(tx, _), (ttx, _) = tw.keras.datasets.mnist.load_data()\n",
    "mgs = ny.concatenate([tx, ttx], axis=0)\n",
    "mgs = ny.expand_dims(mgs, -1).astype(\"float32\") / 255\n",
    "\n",
    "v = VAE(enc, dec)\n",
    "v.compile(optimizer=tw.keras.optimizers.Adam())\n",
    "v.fit(mgs, epochs=1, batch_size=8192)"
   ]
  },
  {
   "cell_type": "code",
   "execution_count": null,
   "metadata": {
    "scrolled": true
   },
   "outputs": [],
   "source": [
    "from matplotlib import pyplot\n",
    "\n",
    "\n",
    "def pl(enc, dec):\n",
    "    num = 30\n",
    "    ds = 28\n",
    "    sle = 2.0\n",
    "    figs = 15\n",
    "    fig = ny.zeros((ds * num, ds * num))\n",
    "    gx = ny.linspace(-sle, sle, num)\n",
    "    gy = ny.linspace(-sle, sle, num)[::-1]\n",
    "\n",
    "    for k, ky in enumerate(gy):\n",
    "        for l, kx in enumerate(gx):\n",
    "            sz = ny.array([[kx, ky]])\n",
    "            decx = dec.predict(sz)\n",
    "            dg = decx[0].reshape(ds, ds)\n",
    "            fig[\n",
    "                k * ds : (1 + k) * ds,\n",
    "                l * ds : (1 + l) * ds,\n",
    "            ] = dg\n",
    "\n",
    "    pyplot.figure(figsize=(figs, figs))\n",
    "    sr = ds // 2\n",
    "    er = num * ds + sr\n",
    "    pr = ny.arange(sr, er, ds)\n",
    "    srx = ny.round(gx, 1)\n",
    "    sry = ny.round(gy, 1)\n",
    "    pyplot.xticks(pr, srx)\n",
    "    pyplot.yticks(pr, sry)\n",
    "    pyplot.xlabel(\"z[0]\")\n",
    "    pyplot.ylabel(\"z[1]\")\n",
    "    pyplot.imshow(fig, cmap=\"Greys_r\")\n",
    "    pyplot.show()\n",
    "\n",
    "\n",
    "pl(enc, dec)"
   ]
  }
 ],
 "metadata": {
  "kernelspec": {
   "display_name": "Python 3",
   "language": "python",
   "name": "python3"
  },
  "language_info": {
   "codemirror_mode": {
    "name": "ipython",
    "version": 3
   },
   "file_extension": ".py",
   "mimetype": "text/x-python",
   "name": "python",
   "nbconvert_exporter": "python",
   "pygments_lexer": "ipython3",
   "version": "3.8.2"
  }
 },
 "nbformat": 4,
 "nbformat_minor": 4
}
